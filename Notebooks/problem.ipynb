{
 "cells": [
  {
   "cell_type": "markdown",
   "metadata": {},
   "source": [
    "## Problem Formulation"
   ]
  },
  {
   "attachments": {},
   "cell_type": "markdown",
   "metadata": {},
   "source": [
    "## 3D Problem Setup\n",
    "### 3D Problem Visualization\n",
    "![3D problem setup](3D_problem.png)"
   ]
  },
  {
   "attachments": {},
   "cell_type": "markdown",
   "metadata": {},
   "source": [
    "### Governing Equations\n",
    "\n",
    "$$\\rho \\frac{\\partial^2{u}}{\\partial^2{t}} = \\nabla \\sigma$$\n",
    "\n",
    "In this equation, $u$ has three components $u_1$, $u_2$ and $u_3$, and $\\sigma$ is a rank-2 tensor\n",
    "\n",
    "Hooke's law in 3D\n",
    "\n",
    "$$\\sigma_{ij} = K \\epsilon_{kk} \\delta_{ij} + 2\\mu (\\epsilon_{ij} - \\frac{1}{3}\\epsilon_{kk}\\delta_{ij})$$\n",
    "\n",
    "$K$ is bulk modulus and $\\mu$ is shear modulus.\n",
    "The strain-displacement relations are given by\n",
    "$$\\epsilon_{ij} = \\frac{1}{2}[\\frac{\\partial u_i}{\\partial u_j} + \\frac{\\partial u_j}{\\partial u_i}]$$\n",
    "And summation convention: $$\\epsilon_{kk} = \\epsilon_{11} + \\epsilon_{22} + \\epsilon_{33} = (\\frac{\\partial u_1}{\\partial x_1} + \\frac{\\partial u_2}{\\partial x_2} + \\frac{\\partial u_3}{\\partial x_3})$$"
   ]
  },
  {
   "cell_type": "markdown",
   "metadata": {},
   "source": [
    "## Deriving values for $\\sigma$ tensor\n",
    "\n",
    "$$\\sigma_{11} = K\\epsilon_{kk} + 2\\mu (\\epsilon_{11} - \\frac{1}{3}\\epsilon_{kk}) = (K - \\frac{2}{3}\\mu)( \\frac{\\partial u_1}{\\partial x_1} + \\frac{\\partial u_2}{\\partial x_2} + \\frac{\\partial u_3}{\\partial x_3}) + 2\\mu \\frac{\\partial u_1}{\\partial x_1}$$ \n",
    "\n",
    "$$\\sigma_{12} = 2\\mu \\epsilon_{12} = \\mu(\\frac{\\partial u_1}{\\partial x_2} + \\frac{\\partial u_2}{\\partial x_1})$$\n",
    "$$\\sigma_{13} = 2\\mu \\epsilon_{13} = \\mu(\\frac{\\partial u_1}{\\partial x_3} + \\frac{\\partial u_3}{\\partial x_1})$$\n",
    "\n",
    "<br/><br/>\n",
    "\n",
    "$$\\sigma_{21} = 2\\mu \\epsilon_{21} = \\mu(\\frac{\\partial u_2}{\\partial x_1} + \\frac{\\partial u_1}{\\partial x_2})$$\n",
    "\n",
    "$$\\sigma_{22} = K\\epsilon_{kk} + 2\\mu (\\epsilon_{22} - \\frac{1}{3}\\epsilon_{kk}) = (K - \\frac{2}{3}\\mu)( \\frac{\\partial u_1}{\\partial x_1} + \\frac{\\partial u_2}{\\partial x_2} + \\frac{\\partial u_3}{\\partial x_3}) + 2\\mu \\frac{\\partial u_2}{\\partial x_2}$$ \n",
    "$$\\sigma_{23} = 2\\mu \\epsilon_{13} = \\mu(\\frac{\\partial u_2}{\\partial x_3} + \\frac{\\partial u_3}{\\partial x_2})$$\n",
    "\n",
    "<br/><br/>\n",
    "\n",
    "$$\\sigma_{31} = 2\\mu \\epsilon_{31} = \\mu(\\frac{\\partial u_3}{\\partial x_1} + \\frac{\\partial u_1}{\\partial x_3})$$\n",
    "$$\\sigma_{32} = 2\\mu \\epsilon_{32} = \\mu(\\frac{\\partial u_3}{\\partial x_2} + \\frac{\\partial u_2}{\\partial x_3})$$\n",
    "$$\\sigma_{33} = K\\epsilon_{kk} + 2\\mu (\\epsilon_{33} - \\frac{1}{3}\\epsilon_{kk}) = (K - \\frac{2}{3}\\mu)( \\frac{\\partial u_1}{\\partial x_1} + \\frac{\\partial u_2}{\\partial x_2} + \\frac{\\partial u_3}{\\partial x_3}) + 2\\mu \\frac{\\partial u_3}{\\partial x_3}$$ "
   ]
  },
  {
   "cell_type": "markdown",
   "metadata": {},
   "source": [
    "## Deriving components for the PDE\n",
    "\n",
    "### Equation for $u_1$\n",
    "\n",
    "$$\\rho \\frac{\\partial^2{u_1}}{\\partial{t^2}} = \\frac{\\partial \\sigma_{11}}{\\partial x_1} + \\frac{\\partial \\sigma_{12}}{\\partial x_{2}} + \\frac{\\partial \\sigma_{13}}{\\partial x_{3}}$$\n",
    "$$\\rho \\frac{\\partial^2{u_1}}{\\partial{t^2}} = (K - \\frac{2}{3}\\mu)( \\frac{\\partial^2 u_1}{\\partial x_1^2} + \\frac{\\partial^2 u_2}{\\partial x_1 \\partial x_2} + \\frac{\\partial^2 u_3}{\\partial x_1 \\partial x_3}) + 2\\mu \\frac{\\partial^2u_1}{\\partial x_1^2} \n",
    "+ \\mu(\\frac{\\partial^2 u_1}{\\partial x_2^2} + \\frac{\\partial^2u_2}{\\partial x_2 \\partial x_1})\n",
    "+ \\mu(\\frac{\\partial^2 u_1}{\\partial x_3^2} + \\frac{\\partial^2u_3}{\\partial x_3 \\partial x_1})$$\n",
    "\n",
    "### Equation for $u_2$\n",
    "$$\\rho \\frac{\\partial^2{u_2}}{\\partial{t^2}} = \\frac{\\partial \\sigma_{21}}{\\partial x_1} + \\frac{\\partial \\sigma_{22}}{\\partial x_{2}} + \\frac{\\partial \\sigma_{23}}{\\partial x_{3}}$$\n",
    "\n",
    "$$\\rho \\frac{\\partial^2{u_2}}{\\partial{t^2}} = \n",
    "\\mu(\\frac{\\partial^2u_2}{\\partial x_1^2} + \\frac{\\partial^2 u_1}{\\partial x_1 \\partial x_2})\n",
    "+ (K - \\frac{2}{3}\\mu)( \\frac{\\partial^2 u_1}{\\partial x_2 \\partial x_1} + \\frac{\\partial^2 u_2}{\\partial x_2^2} + \\frac{\\partial^2 u_3}{\\partial x_2 \\partial x_3}) + 2\\mu \\frac{\\partial^2u_2}{\\partial x_2^2} \n",
    "+ \\mu(\\frac{\\partial^2u_2}{\\partial x_3^2} + \\frac{\\partial^2 u_3}{\\partial x_3 \\partial x_2})\n",
    "$$\n",
    "\n",
    "### Equation for $u_3$\n",
    "$$\\rho \\frac{\\partial^2{u_3}}{\\partial{t^2}} = \\frac{\\partial \\sigma_{31}}{\\partial x_1} + \\frac{\\partial \\sigma_{32}}{\\partial x_{2}} + \\frac{\\partial \\sigma_{33}}{\\partial x_{3}}$$\n",
    "\n",
    "$$\\rho \\frac{\\partial^2{u_3}}{\\partial{t^2}} = \n",
    "\\mu(\\frac{\\partial^2u_3}{\\partial x_1^2} + \\frac{\\partial^2 u_1}{\\partial x_1 \\partial x_3}) \n",
    "+ \\mu(\\frac{\\partial^2 u_3}{\\partial x_2^2} + \\frac{\\partial^2u_2}{\\partial x_2 \\partial x_3})\n",
    "+ (K - \\frac{2}{3}\\mu)( \\frac{\\partial^2 u_1}{\\partial x_3 \\partial x_1} + \\frac{\\partial^2 u_2}{\\partial x_3 \\partial x_2} + \\frac{\\partial^2 u_3}{\\partial x_3^2}) + 2\\mu \\frac{\\partial^2u_3}{\\partial x_3^2} \n",
    "$$"
   ]
  },
  {
   "attachments": {},
   "cell_type": "markdown",
   "metadata": {},
   "source": [
    "## Traction operators\n",
    "$$T_{JL} = n_{I} C_{IJKL} \\frac{\\partial}{\\partial K}$$\n",
    "\n",
    "### Faces 1 / 2\n",
    "$$T_{11} = -/+ \\mu \\frac{\\partial}{\\partial x}, \\quad T_{12} = -/+ \\mu \\frac{\\partial}{\\partial y}, \\quad T_{13} = -/+ \\mu\\frac{\\partial}{\\partial z} $$\n",
    "\n",
    "$$T_{21} = -/+ \\mu \\frac{\\partial}{\\partial y}, \\quad T_{22} = -/+ \\mu \\frac{\\partial}{\\partial x}, \\quad T_{23} = 0$$\n",
    "\n",
    "$$T_{31} = -/+ \\mu \\frac{\\partial}{\\partial z}, \\quad T_{32} = -/+ 0, \\quad T_{33} = -/+ \\mu \\frac{\\partial}{\\partial x}$$\n",
    "\n",
    "### Faces 3 / 4\n",
    "$$T_{11} = -/+ \\mu \\frac{\\partial}{\\partial y}, \\quad T_{12} = -/+ \\mu \\frac{\\partial}{\\partial x}, \\quad T_{13} = 0$$\n",
    "\n",
    "$$T_{21} = -/+ (K - 2\\mu) \\frac{\\partial}{\\partial x}, \\quad T_{22} = -/+ K \\frac{\\partial}{\\partial y},\\quad T_{23} = -/+ (K - 2\\mu)\\frac{\\partial}{\\partial z}$$\n",
    "\n",
    "$$T_{31} = 0, \\quad T_{32} = -/+ \\mu \\frac{\\partial}{\\partial z}, \\quad T_{33} = -/+ \\mu \\frac{\\partial}{\\partial y}$$\n",
    "\n",
    "\n",
    "### Faces 5 / 6\n",
    "\n",
    "$$T_{11} = -/+ \\mu \\frac{\\partial}{\\partial z}, \\quad T_{12} = 0, \\quad T_{13} = -/+ \\mu \\frac{\\partial}{\\partial x}$$\n",
    "\n",
    "$$T_{21} = 0, \\quad T_{22} = -/+ \\mu \\frac{\\partial}{\\partial z}, \\quad T_{23} = -/+ \\mu \\frac{\\partial}{\\partial y}$$\n",
    "\n",
    "$$T_{31} = -/+ (K - 2\\mu) \\frac{\\partial}{\\partial x}, \\quad T_{32} = -/+ (K - 2\\mu) \\frac{\\partial}{\\partial y}, \\quad T_{33} = -/+ K\\frac{\\partial}{\\partial z}$$"
   ]
  },
  {
   "attachments": {},
   "cell_type": "markdown",
   "metadata": {},
   "source": [
    "### Boundary conditions\n",
    "\n",
    "#### face 1: \n",
    "$$ u_1 = g_1^1, u_2 = g_2^1, u_3 = g_3^1 $$\n",
    "#### face 2: \n",
    "$$ u_1 = g_1^2, u_2 = g_2^2, u_3 = g_3^2 $$\n",
    "#### face 3:\n",
    "$$-\\sigma_{xy} = g_1^3 \\rightarrow -\\mu (\\frac{\\partial u_1}{\\partial y} + \\frac{\\partial u_2}{\\partial x}) = g_1^3 \\quad ( {\\color{red}T_{11}^3u_1 + T_{12}^3u_2 = g_1^3} )$$  \n",
    "<!-- <span style = \"color:red\"> $$(T_{11}^3u_1 + T_{12}^3u_2 = g_1^3)$$ </span> -->\n",
    "\n",
    "$$-\\sigma_{yy} = g_2^3 \\rightarrow -(K - \\frac{2}{3}\\mu)(\\frac{\\partial u_1}{\\partial x} + \\frac{\\partial u_2}{\\partial y} + \\frac{\\partial u_3}{\\partial z}) - 2\\mu \\frac{\\partial u_2}{\\partial y} = g_2^3 \\quad ( {\\color{red} T_{21}^3u_1 + T_{22}^3u_2 + T_{23}^3u_3 = g_2^3} )$$\n",
    "\n",
    "\n",
    "$$-\\sigma_{yz} = g_3^3 \\rightarrow -\\mu(\\frac{\\partial u_2}{\\partial z} + \\frac{\\partial u_3}{\\partial y}) = g_3^3 \\quad ( {\\color{red} T_{32}^3u_2 +T_{33}^3u_3 = g_3^3} )$$\n",
    "\n",
    "#### face 4:\n",
    "$$\\sigma_{xy} = g_1^4 \\rightarrow \\mu(\\frac{\\partial u_1}{\\partial y} + \\frac{\\partial u_2}{\\partial x}) = g_1^4 \\quad ( {\\color{red} T_{11}^4u_1 + T_{12}^4 u_2 = g_1^4} )$$\n",
    "\n",
    "\n",
    "$$\\sigma_{yy} = g_2^4 \\rightarrow (K - \\frac{2}{3}\\mu) (\\frac{\\partial u_1}{\\partial x} + \\frac{\\partial u_2}{\\partial y} + \\frac{\\partial u_3}{\\partial z}) + 2\\mu \\frac{\\partial u_2}{\\partial y} = g_2^4 \n",
    "\\quad ( {\\color{red} T_{21}^4 u_1 + T_{22}^4u_2 + T_{23}^4u_3 = g_2^4} )$$\n",
    "\n",
    "$$\\sigma_{yz} = g_3^4 \\rightarrow \\mu(\\frac{\\partial u_2}{\\partial z} + \\frac{\\partial u_3}{\\partial y}) = g_3^4 \\quad ({\\color{red} T_{32}^4u_2 + T_{33}^4u_3 = g_3^4})$$\n",
    "\n",
    "\n",
    "#### face 5:\n",
    "\n",
    "$$ -\\sigma_{xz} = g_1^5 \\rightarrow -\\mu(\\frac{\\partial u_1}{\\partial z} + \\frac{\\partial u_3}{\\partial x}) = g_1^5 \\quad ({\\color{red} T_{11}^5 u_1 + T_{12}^5 u_2 + T_{13}^5 u_3 = g_1^5})$$\n",
    "\n",
    "$$-\\sigma_{yz} = g_2^5 \\rightarrow -\\mu (\\frac{\\partial u_2}{\\partial z} + \\frac{\\partial u_3}{\\partial y}) = g_2^5 \\quad ({\\color{red} T_{21}^5u_1 + T_{22}^5u_2 + T_{23}^5u_3 = g_2^5} )$$\n",
    "\n",
    "$$-\\sigma_{zz} = g_3^5 \\rightarrow -(K-\\frac{2}{3}\\mu) (\\frac{\\partial u_1}{\\partial x} + \\frac{\\partial u_2}{\\partial y} + \\frac{\\partial u_3}{\\partial z}) - 2\\mu\\frac{\\partial u_3}{\\partial z} = g_3^5 \\quad ({\\color{red} T_{31}^5 u_1 + T_{32}^5 u_2 + T_{33}^5 u_3 = g_3^5})$$\n",
    "\n",
    "#### face 6:\n",
    "$$\\sigma_{xz} = g_1^6 \\rightarrow \\mu(\\frac{\\partial u_1}{\\partial z} + \\frac{\\partial u_3}{\\partial x}) = g_1^6 \\quad ({\\color{red} T_{11}^6 u_1 + T_{12}^6 u_2 + T_{13}^6 u_3 = g_1^6})$$\n",
    "\n",
    "$$\\sigma_{yz} = g_2^6 \\rightarrow \\mu(\\frac{\\partial u_2}{\\partial z} + \\frac{\\partial u_3}{\\partial y}) = g_2^6 \\quad ({\\color{red} T_{21}^6 u_1 + T_{22}^6 u_2 + T_{23}^6 u_3 = g_2^6})$$\n",
    "\n",
    "$$\\sigma_{zz} = g_3^6 \\rightarrow (K - \\frac{2}{3}\\mu) (\\frac{\\partial u_1}{\\partial x} + \\frac{\\partial u_2}{\\partial y} + \\frac{\\partial u_3}{\\partial z}) + 2\\mu \\frac{\\partial u_3}{\\partial z} = g_3^6 \\quad ({\\color{red} T_{31}^6 u_1 + T_{32}^6 u_2 + T_{33}^6 u_3 = g_3^6})$$"
   ]
  },
  {
   "cell_type": "markdown",
   "metadata": {},
   "source": []
  },
  {
   "attachments": {},
   "cell_type": "markdown",
   "metadata": {},
   "source": [
    "### SAT terms for traction B.C.\n",
    "\n",
    "$$ SAT_1 = -H^{-1} [e_3 H_3 (e_3^T [T_{11}^3 u_1 + T_{12}^3 u_2 + T_{13}^3 u_3] - g_1^3)] \\\\\n",
    "\\quad \\quad \\quad - H^{-1} [e_4 H_4 (e_4^T [T_{11}^4 u_1 + T_{12}^4 u_2 + T_{13}^4 u_3] - g_1^4)] \\\\\n",
    "\\quad \\quad \\quad - H^{-1} [e_5 H_5 (e_5^T [T_{11}^5 u_1 + T_{12}^5 u_2 + T_{13}^5 u_3] - g_1^5)] \\\\\n",
    "\\quad \\quad \\quad - H^{-1} [e_6 H_6 (e_6^T [T_{11}^6 u_1 + T_{12}^6 u_2 + T_{13}^6 u_3] - g_1^6)]$$ \n",
    "\n",
    "\n",
    "$$ SAT_2 = -H^{-1} [e_3 H_3 (e_3^T [T_{21}^3 u_1 + T_{22}^3 u_2 + T_{23}^3 u_3] - g_2^3)] \\\\\n",
    "\\quad \\quad \\quad - H^{-1} [e_4 H_4 (e_4^T [T_{21}^4 u_1 + T_{22}^4 u_2 + T_{23}^4 u_3] - g_2^4)] \\\\\n",
    "\\quad \\quad \\quad - H^{-1} [e_5 H_5 (e_5^T [T_{21}^5 u_1 + T_{22}^5 u_2 + T_{23}^5 u_3] - g_2^5)] \\\\\n",
    "\\quad \\quad \\quad - H^{-1} [e_6 H_6 (e_6^T [T_{21}^6 u_1 + T_{22}^6 u_2 + T_{23}^6 u_3] - g_2^6)]\n",
    "$$\n",
    "\n",
    "$$ SAT_3 = -H^{-1} [e_3 H_3 (e_3^T [T_{31}^3 u_1 + T_{32}^3 u_2 + T_{33}^3 u_3] - g_3^3)] \\\\\n",
    "\\quad \\quad \\quad - H^{-1} [e_4 H_4 (e_4^T [T_{31}^4 u_1 + T_{32}^4 u_2 + T_{33}^4 u_3] - g_3^4)] \\\\\n",
    "\\quad \\quad \\quad - H^{-1} [e^5 H_5 (e_5^T [T_{31}^5 u_1 + T_{32}^5 u_2 + T_{33}^5 u_3] - g_3^5)] \\\\\n",
    "\\quad \\quad \\quad - H^{-1} [e^6 H_6 (e_6^T [T_{32}^6 u_1 + T_{32}^6 u_2 + T_{33}^6 u_3] - g_3^6)]\n",
    "$$"
   ]
  },
  {
   "cell_type": "markdown",
   "metadata": {},
   "source": []
  },
  {
   "attachments": {},
   "cell_type": "markdown",
   "metadata": {},
   "source": [
    "### SAT terms for Dirichlet BC\n",
    "\n",
    "$$\\tilde{SAT_1} = H^{-1} (\\mathbb{T}_{L1} - \\mathbb{Z}_{L1})^T e_1 H_1 (e_1^T u_L - g_L) \\\\\n",
    "\\quad \\quad \\quad + H^{-1} (\\mathbb{T}_{L1} - \\mathbb{Z}_{L1})^T e_2 H_2 (e_2^T u_L - g_L) \\\\ \n",
    "\n",
    "\\quad \\quad  = H^{-1} (T_{11}^1 - Z_{11}^1)^T e_1 H_1 (e_1^T u_1 - g_1^1) \\\\\n",
    "\\quad \\quad \\quad + H^{-1} (T_{21}^1 - Z_{21}^1)^T e_1 H_1 (e_1^T u_2 - g_2^1) \\\\ \n",
    "\\quad \\quad \\quad + H^{-1} (T_{31}^1 - Z_{31}^1)^T e_1 H_1 (e_1^T u_3 - g_3^1) \\\\\n",
    "\n",
    "\\quad \\quad \\quad + H^{-1} (T_{11}^2 - Z_{11}^2)^T e_2 H_2 (e_2^T u_1 - g_1^2) \\\\\n",
    "\\quad \\quad \\quad + H^{-1} (T_{21}^2 - Z_{21}^2)^T e_2 H_2 (e_2^T u_2 - g_2^2) \\\\\n",
    "\\quad \\quad \\quad + H^{-1} (T_{31}^2 - Z_{31}^2)^T e_2 H_2 (e_2^T u_3 - g_3^2)\n",
    "\n",
    "$$\n",
    "\n",
    "\n",
    "$$ \\tilde{SAT_2} = H^{-1} (T_{12}^1 - Z_{12}^1)^T e_1 H_1 (e_1^T u_1 - g_1^1) \\\\\n",
    "\\quad \\quad \\quad + H^{-1} (T_{22}^1 - Z_{22}^1)^T e_1 H_1 (e_1^T u_2 - g_2^1) \\\\\n",
    "\\quad \\quad \\quad + H^{-1} (T_{32}^1 - Z_{32}^1)^T e_1 H_1 (e_1^T u_3 - g_3^1) \\\\ \n",
    "\n",
    "\\quad \\quad \\quad + H^{-1} (T_{12}^2 - Z_{12}^2)^T e_2 H_2 (e_2^T u_1 - g_1^2) \\\\\n",
    "\\quad \\quad \\quad + H^{-1} (T_{22}^2 - Z_{22}^2)^T e_2 H_2 (e_2^T u_2 - g_2^2) \\\\ \n",
    "\\quad \\quad \\quad + H^{-1} (T_{32}^2 - Z_{32}^2)^T e_2 H_2 (e_2^T u_3 - g_3^2) \\\\\n",
    "$$\n",
    "\n",
    "$$ \\tilde{SAT_3} = H^{-1} (T_{13}^1 - Z_{13}^1)^T e_1 H_1 (e_1^T u_1 - g_1^1) \\\\\n",
    "\\quad \\quad \\quad + H^{-1} (T_{23}^1 - Z_{23}^1)^T e_1 H_1 (e_1^T u_2 - g_2^1) \\\\ \n",
    "\\quad \\quad \\quad + H^{-1} (T_{33}^1 - Z_{33}^1)^T e_1 H_1 (e_1^T u_3 - g_3^1) \\\\\n",
    "\n",
    "\\quad \\quad \\quad + H^{-1} (T_{13}^2 - Z_{13}^2)^T e_2 H_2 (e_2^T u_1 - g_1^2) \\\\\n",
    "\\quad \\quad \\quad + H^{-1} (T_{23}^2 - Z_{23}^2)^T e_2 H_2 (e_2^T u_2 - g_2^2) \\\\\n",
    "\\quad \\quad \\quad + H^{-1} (T_{33}^2 - Z_{33}^2)^T e_2 H_2 (e_3^T u_3 - g_3^2)\n",
    "$$\n"
   ]
  },
  {
   "attachments": {},
   "cell_type": "markdown",
   "metadata": {},
   "source": [
    "#### Matrix and Vector Sizes \n",
    "\n",
    "Suppose we have $N$ by $N$ by $N$ domain in 3D\n",
    "\n",
    "Size for $H^{-1}:$  $\\quad N^3$ by $N^3$ matrix\n",
    "\n",
    "Size for $g_1^1: $  $\\quad N^2$ vector (representing boundary data on face 1)\n",
    "\n",
    "Size for $u_1: $ $\\quad N^3$ vector (representing the first component on all data)\n",
    "\n",
    "Size for $e_1^T: $ $\\quad N^2$ by $N^3$ matrix (restricting values from all data to face 1)\n",
    "\n",
    "Size for $e_1: $ $\\quad N^3$ by $N^2$ matrix (inverse of the restricting )\n",
    "\n",
    "Size for $H_1: $ $\\quad N^2$ by $N^2$ matrix (should be)\n",
    "\n",
    "Size for $e_1 H_1 (e_1^T u_1 - g_1^1): $ $N^3$ vector\n",
    "\n",
    "Size for $\\mathbb{T}_{L1}$ and $\\mathbb{Z}_{L1}: $\n",
    "\n",
    "Size for $T_{12}$ and $Z_{12}: $ $N^3$ by $N^3$ Matrix \n"
   ]
  },
  {
   "cell_type": "markdown",
   "metadata": {},
   "source": [
    "# Debugging Notes\n",
    "Oct 11\n",
    "\n",
    "1. Boundary operators should be approximated using BS operators\n",
    "2. Check the H1 and HI1 (inverse) formulation and size"
   ]
  },
  {
   "cell_type": "code",
   "execution_count": null,
   "metadata": {},
   "outputs": [],
   "source": []
  },
  {
   "cell_type": "markdown",
   "metadata": {},
   "source": []
  },
  {
   "cell_type": "code",
   "execution_count": 1,
   "metadata": {},
   "outputs": [],
   "source": [
    "using LinearAlgebra"
   ]
  },
  {
   "cell_type": "code",
   "execution_count": null,
   "metadata": {},
   "outputs": [],
   "source": []
  }
 ],
 "metadata": {
  "kernelspec": {
   "display_name": "Julia 1.7.2",
   "language": "julia",
   "name": "julia-1.7"
  },
  "language_info": {
   "file_extension": ".jl",
   "mimetype": "application/julia",
   "name": "julia",
   "version": "1.7.2"
  }
 },
 "nbformat": 4,
 "nbformat_minor": 2
}
